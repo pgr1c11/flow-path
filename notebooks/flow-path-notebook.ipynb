{
 "cells": [
  {
   "cell_type": "code",
   "execution_count": 1,
   "metadata": {},
   "outputs": [],
   "source": [
    "import sys\n",
    "sys.path.append('../')\n",
    "import src.dem as dem"
   ]
  },
  {
   "cell_type": "code",
   "execution_count": 2,
   "metadata": {},
   "outputs": [
    {
     "data": {
      "image/png": "[encoded data removed]",
      "text/plain": [
       "<Figure size 432x288 with 2 Axes>"
      ]
     },
     "metadata": {
      "needs_background": "light"
     },
     "output_type": "display_data"
    }
   ],
   "source": [
    "filename = r\"C:\\Users\\pgred\\Documents\\Personal\\Git\\flow-path\\data\\29229620-DEFRA-Basingstoke_DTM_2m\\SU65se_DTM_2m.tif\"\n",
    "test_dem = dem.DemDummy(dimensions=(10,10))\n",
    "test_dem.plot()"
   ]
  },
  {
   "cell_type": "code",
   "execution_count": 7,
   "metadata": {},
   "outputs": [],
   "source": [
    "import src.cell as cell\n",
    "import src.controls as controls\n",
    "test_controls = controls.Controls(dem=test_dem,slope_threshold=35,divergent_flow=2, persistence=2, horizontal_flow=True, fahrboschung_angle=12, max_n_walks=200, max_length=2000)\n",
    "test_cell = cell.Cell(controls=test_controls,coords=(0,1))"
   ]
  },
  {
   "cell_type": "code",
   "execution_count": 8,
   "metadata": {},
   "outputs": [
    {
     "data": {
      "text/plain": [
       "True"
      ]
     },
     "execution_count": 8,
     "metadata": {},
     "output_type": "execute_result"
    }
   ],
   "source": [
    "test_cell.on_boundary"
   ]
  }
 ],
 "metadata": {
  "kernelspec": {
   "display_name": "Python 3.8.10 ('env': venv)",
   "language": "python",
   "name": "python3"
  },
  "language_info": {
   "codemirror_mode": {
    "name": "ipython",
    "version": 3
   },
   "file_extension": ".py",
   "mimetype": "text/x-python",
   "name": "python",
   "nbconvert_exporter": "python",
   "pygments_lexer": "ipython3",
   "version": "3.8.10"
  },
  "orig_nbformat": 4,
  "vscode": {
   "interpreter": {
    "hash": "732be50bb60fbb28ed67288a564b624aed177d38bb0a51847e6ac069a70ea121"
   }
  }
 },
 "nbformat": 4,
 "nbformat_minor": 2
}
